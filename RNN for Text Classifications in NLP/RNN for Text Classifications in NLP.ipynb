{
 "cells": [
  {
   "cell_type": "markdown",
   "id": "ad523805-673d-40de-a60f-1cfba26bb595",
   "metadata": {},
   "source": [
    "# RNN for Text Classifications in NLP\n",
    "\n",
    "source: https://www.geeksforgeeks.org/rnn-for-text-classifications-in-nlp/"
   ]
  },
  {
   "cell_type": "code",
   "execution_count": 2,
   "id": "dda40a1e-118f-40b3-b03c-f70f88ca5960",
   "metadata": {},
   "outputs": [
    {
     "name": "stdout",
     "output_type": "stream",
     "text": [
      "Collecting tensorflow_datasets\n",
      "  Downloading tensorflow_datasets-4.9.2-py3-none-any.whl (5.4 MB)\n",
      "\u001b[2K     \u001b[90m━━━━━━━━━━━━━━━━━━━━━━━━━━━━━━━━━━━━━━━━\u001b[0m \u001b[32m5.4/5.4 MB\u001b[0m \u001b[31m4.0 MB/s\u001b[0m eta \u001b[36m0:00:00\u001b[0m00:01\u001b[0m00:01\u001b[0m\n",
      "\u001b[?25hRequirement already satisfied: absl-py in /Users/wel51x/Library/jupyterlab-desktop/jlab_server/lib/python3.8/site-packages (from tensorflow_datasets) (2.0.0)\n",
      "Collecting array-record (from tensorflow_datasets)\n",
      "  Downloading array_record-0.4.0-py38-none-any.whl.metadata (502 bytes)\n",
      "Collecting click (from tensorflow_datasets)\n",
      "  Using cached click-8.1.7-py3-none-any.whl.metadata (3.0 kB)\n",
      "Collecting dm-tree (from tensorflow_datasets)\n",
      "  Downloading dm_tree-0.1.8-cp38-cp38-macosx_11_0_arm64.whl (110 kB)\n",
      "\u001b[2K     \u001b[90m━━━━━━━━━━━━━━━━━━━━━━━━━━━━━━━━━━━━━━━\u001b[0m \u001b[32m110.7/110.7 kB\u001b[0m \u001b[31m6.3 MB/s\u001b[0m eta \u001b[36m0:00:00\u001b[0m\n",
      "\u001b[?25hCollecting etils>=0.9.0 (from etils[enp,epath]>=0.9.0->tensorflow_datasets)\n",
      "  Downloading etils-1.3.0-py3-none-any.whl.metadata (5.5 kB)\n",
      "Requirement already satisfied: numpy in /Users/wel51x/Library/jupyterlab-desktop/jlab_server/lib/python3.8/site-packages (from tensorflow_datasets) (1.24.3)\n",
      "Collecting promise (from tensorflow_datasets)\n",
      "  Downloading promise-2.3.tar.gz (19 kB)\n",
      "  Preparing metadata (setup.py) ... \u001b[?25ldone\n",
      "\u001b[?25hRequirement already satisfied: protobuf>=3.20 in /Users/wel51x/Library/jupyterlab-desktop/jlab_server/lib/python3.8/site-packages (from tensorflow_datasets) (4.25.1)\n",
      "Requirement already satisfied: psutil in /Users/wel51x/Library/jupyterlab-desktop/jlab_server/lib/python3.8/site-packages (from tensorflow_datasets) (5.9.5)\n",
      "Requirement already satisfied: requests>=2.19.0 in /Users/wel51x/Library/jupyterlab-desktop/jlab_server/lib/python3.8/site-packages (from tensorflow_datasets) (2.31.0)\n",
      "Collecting tensorflow-metadata (from tensorflow_datasets)\n",
      "  Downloading tensorflow_metadata-1.14.0-py3-none-any.whl.metadata (2.1 kB)\n",
      "Requirement already satisfied: termcolor in /Users/wel51x/Library/jupyterlab-desktop/jlab_server/lib/python3.8/site-packages (from tensorflow_datasets) (2.3.0)\n",
      "Collecting toml (from tensorflow_datasets)\n",
      "  Using cached toml-0.10.2-py2.py3-none-any.whl (16 kB)\n",
      "Requirement already satisfied: tqdm in /Users/wel51x/Library/jupyterlab-desktop/jlab_server/lib/python3.8/site-packages (from tensorflow_datasets) (4.66.1)\n",
      "Requirement already satisfied: wrapt in /Users/wel51x/Library/jupyterlab-desktop/jlab_server/lib/python3.8/site-packages (from tensorflow_datasets) (1.16.0)\n",
      "Requirement already satisfied: importlib-resources in /Users/wel51x/Library/jupyterlab-desktop/jlab_server/lib/python3.8/site-packages (from tensorflow_datasets) (6.1.0)\n",
      "Requirement already satisfied: typing_extensions in /Users/wel51x/Library/jupyterlab-desktop/jlab_server/lib/python3.8/site-packages (from etils[enp,epath]>=0.9.0->tensorflow_datasets) (4.5.0)\n",
      "Requirement already satisfied: zipp in /Users/wel51x/Library/jupyterlab-desktop/jlab_server/lib/python3.8/site-packages (from etils[enp,epath]>=0.9.0->tensorflow_datasets) (3.17.0)\n",
      "Requirement already satisfied: charset-normalizer<4,>=2 in /Users/wel51x/Library/jupyterlab-desktop/jlab_server/lib/python3.8/site-packages (from requests>=2.19.0->tensorflow_datasets) (3.3.1)\n",
      "Requirement already satisfied: idna<4,>=2.5 in /Users/wel51x/Library/jupyterlab-desktop/jlab_server/lib/python3.8/site-packages (from requests>=2.19.0->tensorflow_datasets) (3.4)\n",
      "Requirement already satisfied: urllib3<3,>=1.21.1 in /Users/wel51x/Library/jupyterlab-desktop/jlab_server/lib/python3.8/site-packages (from requests>=2.19.0->tensorflow_datasets) (2.0.7)\n",
      "Requirement already satisfied: certifi>=2017.4.17 in /Users/wel51x/Library/jupyterlab-desktop/jlab_server/lib/python3.8/site-packages (from requests>=2.19.0->tensorflow_datasets) (2023.7.22)\n",
      "Requirement already satisfied: six in /Users/wel51x/Library/jupyterlab-desktop/jlab_server/lib/python3.8/site-packages (from promise->tensorflow_datasets) (1.16.0)\n",
      "Collecting absl-py (from tensorflow_datasets)\n",
      "  Downloading absl_py-1.4.0-py3-none-any.whl (126 kB)\n",
      "\u001b[2K     \u001b[90m━━━━━━━━━━━━━━━━━━━━━━━━━━━━━━━━━━━━━━━\u001b[0m \u001b[32m126.5/126.5 kB\u001b[0m \u001b[31m9.3 MB/s\u001b[0m eta \u001b[36m0:00:00\u001b[0m\n",
      "\u001b[?25hCollecting googleapis-common-protos<2,>=1.52.0 (from tensorflow-metadata->tensorflow_datasets)\n",
      "  Downloading googleapis_common_protos-1.61.0-py2.py3-none-any.whl.metadata (1.5 kB)\n",
      "Collecting protobuf>=3.20 (from tensorflow_datasets)\n",
      "  Downloading protobuf-3.20.3-py2.py3-none-any.whl (162 kB)\n",
      "\u001b[2K     \u001b[90m━━━━━━━━━━━━━━━━━━━━━━━━━━━━━━━━━━━━━\u001b[0m \u001b[32m162.1/162.1 kB\u001b[0m \u001b[31m984.5 kB/s\u001b[0m eta \u001b[36m0:00:00\u001b[0ma \u001b[36m0:00:01\u001b[0m\n",
      "\u001b[?25hDownloading etils-1.3.0-py3-none-any.whl (126 kB)\n",
      "\u001b[2K   \u001b[90m━━━━━━━━━━━━━━━━━━━━━━━━━━━━━━━━━━━━━━━━\u001b[0m \u001b[32m126.4/126.4 kB\u001b[0m \u001b[31m6.8 MB/s\u001b[0m eta \u001b[36m0:00:00\u001b[0m\n",
      "\u001b[?25hDownloading array_record-0.4.0-py38-none-any.whl (3.0 MB)\n",
      "\u001b[2K   \u001b[90m━━━━━━━━━━━━━━━━━━━━━━━━━━━━━━━━━━━━━━━━\u001b[0m \u001b[32m3.0/3.0 MB\u001b[0m \u001b[31m10.0 MB/s\u001b[0m eta \u001b[36m0:00:00\u001b[0m00:01\u001b[0m00:01\u001b[0m\n",
      "\u001b[?25hUsing cached click-8.1.7-py3-none-any.whl (97 kB)\n",
      "Downloading tensorflow_metadata-1.14.0-py3-none-any.whl (28 kB)\n",
      "Downloading googleapis_common_protos-1.61.0-py2.py3-none-any.whl (230 kB)\n",
      "\u001b[2K   \u001b[90m━━━━━━━━━━━━━━━━━━━━━━━━━━━━━━━━━━━━━━━━\u001b[0m \u001b[32m230.9/230.9 kB\u001b[0m \u001b[31m8.3 MB/s\u001b[0m eta \u001b[36m0:00:00\u001b[0m\n",
      "\u001b[?25hBuilding wheels for collected packages: promise\n",
      "  Building wheel for promise (setup.py) ... \u001b[?25ldone\n",
      "\u001b[?25h  Created wheel for promise: filename=promise-2.3-py3-none-any.whl size=21484 sha256=31bd7dc5e0d508d07e01c139df8729d570f9d2147f5de8d046ee16ae0de9b786\n",
      "  Stored in directory: /Users/wel51x/Library/Caches/pip/wheels/54/aa/01/724885182f93150035a2a91bce34a12877e8067a97baaf5dc8\n",
      "Successfully built promise\n",
      "Installing collected packages: dm-tree, toml, protobuf, promise, etils, click, absl-py, googleapis-common-protos, tensorflow-metadata, array-record, tensorflow_datasets\n",
      "  Attempting uninstall: protobuf\n",
      "    Found existing installation: protobuf 4.25.1\n",
      "    Uninstalling protobuf-4.25.1:\n",
      "      Successfully uninstalled protobuf-4.25.1\n",
      "  Attempting uninstall: absl-py\n",
      "    Found existing installation: absl-py 2.0.0\n",
      "    Uninstalling absl-py-2.0.0:\n",
      "      Successfully uninstalled absl-py-2.0.0\n",
      "Successfully installed absl-py-1.4.0 array-record-0.4.0 click-8.1.7 dm-tree-0.1.8 etils-1.3.0 googleapis-common-protos-1.61.0 promise-2.3 protobuf-3.20.3 tensorflow-metadata-1.14.0 tensorflow_datasets-4.9.2 toml-0.10.2\n"
     ]
    }
   ],
   "source": [
    "!pip install tensorflow_datasets"
   ]
  },
  {
   "cell_type": "markdown",
   "id": "3ee032e7-3efd-4e97-aafa-babca0c738f7",
   "metadata": {},
   "source": [
    "### Imports"
   ]
  },
  {
   "cell_type": "code",
   "execution_count": 3,
   "id": "87f5ae6c-4a65-4b76-b692-b4296c62fb45",
   "metadata": {},
   "outputs": [],
   "source": [
    "import tensorflow as tf \n",
    "import tensorflow_datasets as tfds \n",
    "\n",
    "import numpy as np \n",
    "import matplotlib.pyplot as plt\n",
    "\n",
    "# Suppress warnings\n",
    "import warnings\n",
    "warnings.filterwarnings(\"ignore\")"
   ]
  },
  {
   "cell_type": "markdown",
   "id": "dec3a21f-a3cc-4b57-b597-7173a4c86f0a",
   "metadata": {},
   "source": [
    "### Load IMDB movies dataset"
   ]
  },
  {
   "cell_type": "code",
   "execution_count": 4,
   "id": "d340a52f-1692-41a3-b7d5-49e60d55569f",
   "metadata": {},
   "outputs": [
    {
     "name": "stderr",
     "output_type": "stream",
     "text": [
      "2023-11-18 21:40:04.678627: W tensorflow/tsl/platform/cloud/google_auth_provider.cc:184] All attempts to get a Google authentication bearer token failed, returning an empty token. Retrieving token from files failed with \"NOT_FOUND: Could not locate the credentials file.\". Retrieving token from GCE failed with \"INTERNAL: Couldn't parse JSON response from OAuth server.\".\n"
     ]
    },
    {
     "name": "stdout",
     "output_type": "stream",
     "text": [
      "\u001b[1mDownloading and preparing dataset 80.23 MiB (download: 80.23 MiB, generated: Unknown size, total: 80.23 MiB) to /Users/wel51x/tensorflow_datasets/imdb_reviews/plain_text/1.0.0...\u001b[0m\n"
     ]
    },
    {
     "data": {
      "application/vnd.jupyter.widget-view+json": {
       "model_id": "17545c89130e46c9960563a415a7063a",
       "version_major": 2,
       "version_minor": 0
      },
      "text/plain": [
       "Dl Completed...: 0 url [00:00, ? url/s]"
      ]
     },
     "metadata": {},
     "output_type": "display_data"
    },
    {
     "data": {
      "application/vnd.jupyter.widget-view+json": {
       "model_id": "02511a5664614328b48a96649ce488dd",
       "version_major": 2,
       "version_minor": 0
      },
      "text/plain": [
       "Dl Size...: 0 MiB [00:00, ? MiB/s]"
      ]
     },
     "metadata": {},
     "output_type": "display_data"
    },
    {
     "data": {
      "application/vnd.jupyter.widget-view+json": {
       "model_id": "",
       "version_major": 2,
       "version_minor": 0
      },
      "text/plain": [
       "Generating splits...:   0%|          | 0/3 [00:00<?, ? splits/s]"
      ]
     },
     "metadata": {},
     "output_type": "display_data"
    },
    {
     "data": {
      "application/vnd.jupyter.widget-view+json": {
       "model_id": "",
       "version_major": 2,
       "version_minor": 0
      },
      "text/plain": [
       "Generating train examples...:   0%|          | 0/25000 [00:00<?, ? examples/s]"
      ]
     },
     "metadata": {},
     "output_type": "display_data"
    },
    {
     "data": {
      "application/vnd.jupyter.widget-view+json": {
       "model_id": "",
       "version_major": 2,
       "version_minor": 0
      },
      "text/plain": [
       "Shuffling /Users/wel51x/tensorflow_datasets/imdb_reviews/plain_text/1.0.0.incomplete5WKHFP/imdb_reviews-train.…"
      ]
     },
     "metadata": {},
     "output_type": "display_data"
    },
    {
     "data": {
      "application/vnd.jupyter.widget-view+json": {
       "model_id": "",
       "version_major": 2,
       "version_minor": 0
      },
      "text/plain": [
       "Generating test examples...:   0%|          | 0/25000 [00:00<?, ? examples/s]"
      ]
     },
     "metadata": {},
     "output_type": "display_data"
    },
    {
     "data": {
      "application/vnd.jupyter.widget-view+json": {
       "model_id": "",
       "version_major": 2,
       "version_minor": 0
      },
      "text/plain": [
       "Shuffling /Users/wel51x/tensorflow_datasets/imdb_reviews/plain_text/1.0.0.incomplete5WKHFP/imdb_reviews-test.t…"
      ]
     },
     "metadata": {},
     "output_type": "display_data"
    },
    {
     "data": {
      "application/vnd.jupyter.widget-view+json": {
       "model_id": "",
       "version_major": 2,
       "version_minor": 0
      },
      "text/plain": [
       "Generating unsupervised examples...:   0%|          | 0/50000 [00:00<?, ? examples/s]"
      ]
     },
     "metadata": {},
     "output_type": "display_data"
    },
    {
     "data": {
      "application/vnd.jupyter.widget-view+json": {
       "model_id": "",
       "version_major": 2,
       "version_minor": 0
      },
      "text/plain": [
       "Shuffling /Users/wel51x/tensorflow_datasets/imdb_reviews/plain_text/1.0.0.incomplete5WKHFP/imdb_reviews-unsupe…"
      ]
     },
     "metadata": {},
     "output_type": "display_data"
    },
    {
     "name": "stdout",
     "output_type": "stream",
     "text": [
      "\u001b[1mDataset imdb_reviews downloaded and prepared to /Users/wel51x/tensorflow_datasets/imdb_reviews/plain_text/1.0.0. Subsequent calls will reuse this data.\u001b[0m\n"
     ]
    }
   ],
   "source": [
    "# Obtain the imdb review dataset from tensorflow datasets \n",
    "dataset = tfds.load('imdb_reviews', as_supervised=True)"
   ]
  },
  {
   "cell_type": "markdown",
   "id": "65aad9a6-b3ac-40ec-8e85-4ea06d352ee1",
   "metadata": {},
   "source": [
    "### Separate test and train datasets "
   ]
  },
  {
   "cell_type": "code",
   "execution_count": 5,
   "id": "07008be0-1861-42dc-a178-a764d950f4d3",
   "metadata": {},
   "outputs": [],
   "source": [
    "train_dataset, test_dataset = dataset['train'], dataset['test'] "
   ]
  },
  {
   "cell_type": "markdown",
   "id": "46c8414b-ddf7-4245-8da8-841f7d65f397",
   "metadata": {},
   "source": [
    "### Split the test and train data into batches of 32 and shuffling the training set"
   ]
  },
  {
   "cell_type": "code",
   "execution_count": 6,
   "id": "3961ecd9-a36a-4eb2-84ff-081a4c1b84d0",
   "metadata": {},
   "outputs": [],
   "source": [
    "batch_size = 32\n",
    "train_dataset = train_dataset.shuffle(10000) \n",
    "train_dataset = train_dataset.batch(batch_size) \n",
    "test_dataset = test_dataset.batch(batch_size)"
   ]
  },
  {
   "cell_type": "markdown",
   "id": "3b540594-a9e9-456e-a023-c09f2e1e4a04",
   "metadata": {},
   "source": [
    "### Print a sample review and its label from the training set"
   ]
  },
  {
   "cell_type": "code",
   "execution_count": 7,
   "id": "42a5bab6-fc08-463b-885c-1a00059ae054",
   "metadata": {},
   "outputs": [
    {
     "name": "stdout",
     "output_type": "stream",
     "text": [
      "Text:\n",
      " b\"I stopped five minutes in when Beowulf was given a double-shot, automatic crossbow with sights on it. Not only do crossbows not have telescoping sights, but Beowulf beat Grendel in hand-to-hand combat. The terrible, wooden acting and eternal darkness that plagues all Sci-Fi Original Movies didn't help either. Having only gotten a few minutes in before I felt my bile rise and decided to watch I Love Lucy reruns instead, that's really about all I have to say. But, you might as well just realize that it's a made-for-TV movie and skip it right there.<br /><br />A travesty.\"\n",
      "\n",
      "Label:  0\n"
     ]
    },
    {
     "name": "stderr",
     "output_type": "stream",
     "text": [
      "2023-11-18 21:44:04.492269: W tensorflow/core/kernels/data/cache_dataset_ops.cc:854] The calling iterator did not fully read the dataset being cached. In order to avoid unexpected truncation of the dataset, the partially cached contents of the dataset  will be discarded. This can happen if you have an input pipeline similar to `dataset.cache().take(k).repeat()`. You should use `dataset.take(k).cache().repeat()` instead.\n"
     ]
    }
   ],
   "source": [
    "example, label = next(iter(train_dataset)) \n",
    "print('Text:\\n', example.numpy()[0]) \n",
    "print('\\nLabel: ', label.numpy()[0])"
   ]
  },
  {
   "cell_type": "markdown",
   "id": "1b7c7277-d29a-4065-a02f-cc121f4f9db4",
   "metadata": {},
   "source": [
    "### Build Model\n",
    "\n",
    "#### Text Vectorization"
   ]
  },
  {
   "cell_type": "code",
   "execution_count": 8,
   "id": "974ea00a-89c2-4a4e-a96f-1b01e30761b1",
   "metadata": {},
   "outputs": [
    {
     "name": "stdout",
     "output_type": "stream",
     "text": [
      "original:  b\"I stopped five minutes in when Beowulf was given a double-shot, automatic crossbow with sights on it. Not only do crossbows not have telescoping sights, but Beowulf beat Grendel in hand-to-hand combat. The terrible, wooden acting and eternal darkness that plagues all Sci-Fi Original Movies didn't help either. Having only gotten a few minutes in before I felt my bile rise and decided to watch I Love Lucy reruns instead, that's really about all I have to say. But, you might as well just realize that it's a made-for-TV movie and skip it right there.<br /><br />A travesty.\"\n",
      "encoded:  [  10 2147  711  233    8   51 6513   14  335    4    1 8118    1   17\n",
      " 7431   21    9   22   61   82    1   22   26    1 7431   19 6513 1558\n",
      " 8983    8    1 4033    2  384 1596  112    3 5443 2569   12    1   32\n",
      "  968  198   93  153  328  352  252   61 1772    4  164  233    8  156\n",
      "   10  399   56    1 2209    3  831    6  104   10  116 3051 6041  297\n",
      "  174   63   43   32   10   26    6  130   19   23  227   15   74   41\n",
      "  888   12   30    4 4373   18    3 1734    9  205 3122   13    4 5141]\n",
      "decoded:  i stopped five minutes in when beowulf was given a [UNK] automatic [UNK] with sights on it not only do [UNK] not have [UNK] sights but beowulf beat grendel in [UNK] combat the terrible wooden acting and eternal darkness that [UNK] all scifi original movies didnt help either having only gotten a few minutes in before i felt my [UNK] rise and decided to watch i love lucy reruns instead thats really about all i have to say but you might as well just realize that its a madefortv movie and skip it right therebr br a travesty\n"
     ]
    }
   ],
   "source": [
    "# Use the TextVectorization layer to normalize, split, and map strings to integers. \n",
    "encoder = tf.keras.layers.TextVectorization(max_tokens=10000) \n",
    "encoder.adapt(train_dataset.map(lambda text, _: text)) \n",
    "\n",
    "# Extract the vocabulary from the TextVectorization layer. \n",
    "vocabulary = np.array(encoder.get_vocabulary()) \n",
    "\n",
    "# Encode a test example and decoding it back. \n",
    "original_text = example.numpy()[0] \n",
    "encoded_text = encoder(original_text).numpy() \n",
    "decoded_text = ' '.join(vocabulary[encoded_text]) \n",
    "\n",
    "print('original: ', original_text) \n",
    "print('encoded: ', encoded_text) \n",
    "print('decoded: ', decoded_text)\n"
   ]
  },
  {
   "cell_type": "markdown",
   "id": "e4495392-69a0-4c30-b49f-991e94f1b6f4",
   "metadata": {},
   "source": [
    "#### Create model"
   ]
  },
  {
   "cell_type": "code",
   "execution_count": 9,
   "id": "d8d6d9c1-5de3-494d-8dc9-67828f63f4a5",
   "metadata": {},
   "outputs": [
    {
     "name": "stdout",
     "output_type": "stream",
     "text": [
      "Model: \"sequential\"\n",
      "_________________________________________________________________\n",
      " Layer (type)                Output Shape              Param #   \n",
      "=================================================================\n",
      " text_vectorization (TextVe  (None, None)              0         \n",
      " ctorization)                                                    \n",
      "                                                                 \n",
      " embedding (Embedding)       (None, None, 64)          640000    \n",
      "                                                                 \n",
      " bidirectional (Bidirection  (None, None, 128)         66048     \n",
      " al)                                                             \n",
      "                                                                 \n",
      " bidirectional_1 (Bidirecti  (None, 64)                41216     \n",
      " onal)                                                           \n",
      "                                                                 \n",
      " dense (Dense)               (None, 64)                4160      \n",
      "                                                                 \n",
      " dense_1 (Dense)             (None, 1)                 65        \n",
      "                                                                 \n",
      "=================================================================\n",
      "Total params: 751489 (2.87 MB)\n",
      "Trainable params: 751489 (2.87 MB)\n",
      "Non-trainable params: 0 (0.00 Byte)\n",
      "_________________________________________________________________\n"
     ]
    },
    {
     "name": "stderr",
     "output_type": "stream",
     "text": [
      "WARNING:absl:At this time, the v2.11+ optimizer `tf.keras.optimizers.Adam` runs slowly on M1/M2 Macs, please use the legacy Keras optimizer instead, located at `tf.keras.optimizers.legacy.Adam`.\n",
      "WARNING:absl:There is a known slowdown when using v2.11+ Keras optimizers on M1/M2 Macs. Falling back to the legacy Keras optimizer, i.e., `tf.keras.optimizers.legacy.Adam`.\n"
     ]
    }
   ],
   "source": [
    "# Create model \n",
    "model = tf.keras.Sequential([ \n",
    "\tencoder, \n",
    "\ttf.keras.layers.Embedding( \n",
    "\t\tlen(encoder.get_vocabulary()), 64, mask_zero=True), \n",
    "\ttf.keras.layers.Bidirectional( \n",
    "\t\ttf.keras.layers.LSTM(64, return_sequences=True)), \n",
    "\ttf.keras.layers.Bidirectional(tf.keras.layers.LSTM(32)), \n",
    "\ttf.keras.layers.Dense(64, activation='relu'), \n",
    "\ttf.keras.layers.Dense(1) \n",
    "]) \n",
    "\n",
    "# Model Summary \n",
    "model.summary() \n",
    "\n",
    "# Compile model \n",
    "model.compile( \n",
    "\tloss=tf.keras.losses.BinaryCrossentropy(from_logits=True), \n",
    "\toptimizer=tf.keras.optimizers.Adam(), \n",
    "\tmetrics=['accuracy'] \n",
    ")"
   ]
  },
  {
   "cell_type": "markdown",
   "id": "a62c7170-2fa9-474c-93ce-637c471a11d6",
   "metadata": {},
   "source": [
    "#### Fit model"
   ]
  },
  {
   "cell_type": "code",
   "execution_count": 10,
   "id": "e84240fc-309a-4b34-adfb-d5ca76ee2b5a",
   "metadata": {},
   "outputs": [
    {
     "name": "stdout",
     "output_type": "stream",
     "text": [
      "Epoch 1/5\n",
      "782/782 [==============================] - 373s 472ms/step - loss: 0.5011 - accuracy: 0.7304 - val_loss: 0.3777 - val_accuracy: 0.8508\n",
      "Epoch 2/5\n",
      "782/782 [==============================] - 381s 488ms/step - loss: 0.2736 - accuracy: 0.8863 - val_loss: 0.3061 - val_accuracy: 0.8681\n",
      "Epoch 3/5\n",
      "782/782 [==============================] - 387s 495ms/step - loss: 0.1931 - accuracy: 0.9220 - val_loss: 0.2987 - val_accuracy: 0.8718\n",
      "Epoch 4/5\n",
      "782/782 [==============================] - 383s 490ms/step - loss: 0.1406 - accuracy: 0.9463 - val_loss: 0.3402 - val_accuracy: 0.8716\n",
      "Epoch 5/5\n",
      "782/782 [==============================] - 395s 505ms/step - loss: 0.0947 - accuracy: 0.9656 - val_loss: 0.3929 - val_accuracy: 0.8543\n"
     ]
    }
   ],
   "source": [
    "# Train model and validate it on test set \n",
    "history = model.fit( \n",
    "\ttrain_dataset, \n",
    "\tepochs=5, \n",
    "\tvalidation_data=test_dataset, \n",
    ")"
   ]
  },
  {
   "cell_type": "markdown",
   "id": "3bdd39de-a05f-4b01-ba79-4828a323ee5c",
   "metadata": {},
   "source": [
    "#### Plot training & validation accuracy and loss plots."
   ]
  },
  {
   "cell_type": "code",
   "execution_count": 12,
   "id": "fb97514f-8c60-4b8b-88ec-7cb01de6d396",
   "metadata": {},
   "outputs": [
    {
     "data": {
      "image/png": "[encoded data removed]",
      "text/plain": [
       "<Figure size 1200x600 with 2 Axes>"
      ]
     },
     "metadata": {},
     "output_type": "display_data"
    }
   ],
   "source": [
    "# Plotting the accuracy and loss over time \n",
    "\n",
    "# Training history \n",
    "history_dict = history.history \n",
    "\n",
    "# Seperating validation and training accuracy \n",
    "acc = history_dict['accuracy'] \n",
    "val_acc = history_dict['val_accuracy'] \n",
    "\n",
    "# Seperating validation and training loss \n",
    "loss = history_dict['loss'] \n",
    "val_loss = history_dict['val_loss'] \n",
    "\n",
    "# Plotting \n",
    "plt.figure(figsize=(12, 6)) \n",
    "plt.subplot(1, 2, 1) \n",
    "plt.plot(acc) \n",
    "plt.plot(val_acc) \n",
    "plt.title('Training and Validation Accuracy') \n",
    "plt.xlabel('Epochs') \n",
    "plt.ylabel('Accuracy') \n",
    "plt.legend(['Accuracy', 'Validation Accuracy']) \n",
    "\n",
    "plt.subplot(1, 2, 2) \n",
    "plt.plot(loss) \n",
    "plt.plot(val_loss) \n",
    "plt.title('Training and Validation Loss') \n",
    "plt.xlabel('Epochs') \n",
    "plt.ylabel('Loss') \n",
    "plt.legend(['Loss', 'Validation Loss']) \n",
    "\n",
    "plt.show()"
   ]
  },
  {
   "cell_type": "code",
   "execution_count": null,
   "id": "a2ec7958-9f97-42c4-83a8-6cff19202120",
   "metadata": {},
   "outputs": [],
   "source": []
  }
 ],
 "metadata": {
  "kernelspec": {
   "display_name": "Python 3 (ipykernel)",
   "language": "python",
   "name": "python3"
  },
  "language_info": {
   "codemirror_mode": {
    "name": "ipython",
    "version": 3
   },
   "file_extension": ".py",
   "mimetype": "text/x-python",
   "name": "python",
   "nbconvert_exporter": "python",
   "pygments_lexer": "ipython3",
   "version": "3.8.18"
  }
 },
 "nbformat": 4,
 "nbformat_minor": 5
}
