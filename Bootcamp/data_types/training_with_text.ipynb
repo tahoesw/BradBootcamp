{
 "cells": [
  {
   "cell_type": "code",
   "execution_count": 1,
   "metadata": {},
   "outputs": [],
   "source": [
    "import os\n",
    "import io\n",
    "import json\n",
    "\n",
    "import tensorflow as tf\n",
    "import numpy as np\n",
    "import pandas as pd\n",
    "\n",
    "from sklearn import model_selection\n",
    "from sklearn.preprocessing import LabelEncoder \n",
    "from sklearn.model_selection import train_test_split"
   ]
  },
  {
   "cell_type": "markdown",
   "metadata": {},
   "source": [
    "# Hyperparameters"
   ]
  },
  {
   "cell_type": "code",
   "execution_count": null,
   "metadata": {},
   "outputs": [],
   "source": [
    "output_dir = 'model_output/fandom'\n",
    "\n",
    "embedding_dim = 64\n",
    "max_features=10000\n",
    "maxlen=300 "
   ]
  },
  {
   "cell_type": "code",
   "execution_count": null,
   "metadata": {},
   "outputs": [],
   "source": [
    "if not os.path.exists(output_dir):\n",
    "    os.makedirs(output_dir)"
   ]
  },
  {
   "cell_type": "markdown",
   "metadata": {},
   "source": [
    "# Load Data from Disk"
   ]
  },
  {
   "cell_type": "code",
   "execution_count": null,
   "metadata": {},
   "outputs": [],
   "source": [
    "#Load the parquet data frame... nothing that special here\n",
    "\n",
    "filepath = os.path.abspath(os.path.join(os.getcwd(), \n",
    "        \"..\", \n",
    "        \"data/fandom_categorizer/downloads/scraped/master_8-26_expanddata_3468.parquet\"))\n",
    "\n",
    "raw_df = pd.read_parquet(filepath)\n",
    "    \n",
    "#append to dataframe\n",
    "raw_df.head()"
   ]
  },
  {
   "cell_type": "markdown",
   "metadata": {},
   "source": [
    "# Setup Labels (IAB Categories, Y)"
   ]
  },
  {
   "cell_type": "code",
   "execution_count": null,
   "metadata": {},
   "outputs": [],
   "source": [
    "y = [list(v.values()) for k,v in raw_df.tags.iteritems()]\n",
    "print(y[0]) # our total list of labels\n",
    "print(len(y)) # the total number of labeled sites\n",
    "num_categories = len(y[0]) # the number of labels/IAB categories"
   ]
  },
  {
   "cell_type": "markdown",
   "metadata": {},
   "source": [
    "# Setup \"Word Bags\" (X)"
   ]
  },
  {
   "cell_type": "code",
   "execution_count": null,
   "metadata": {},
   "outputs": [],
   "source": [
    "tok = tf.keras.preprocessing.text.Tokenizer(num_words=max_features) "
   ]
  },
  {
   "cell_type": "code",
   "execution_count": null,
   "metadata": {},
   "outputs": [],
   "source": [
    "tok.fit_on_texts(list(raw_df.text)) "
   ]
  },
  {
   "cell_type": "code",
   "execution_count": null,
   "metadata": {
    "scrolled": true
   },
   "outputs": [],
   "source": [
    "print(len(tok.word_index))\n",
    "with io.open(output_dir+'/tokenizer.json','w',encoding='utf-8') as f:\n",
    "    f.write(json.dumps(tok.to_json(),ensure_ascii=False))\n",
    "vocab_size = len(tok.word_index) + 1 \n",
    "#this represents the number of words that we tokenize different from max_features but necessary for\n",
    "#the definition of the dimension of the embedding space"
   ]
  },
  {
   "cell_type": "code",
   "execution_count": null,
   "metadata": {
    "scrolled": true
   },
   "outputs": [],
   "source": [
    "train_df = tok.texts_to_sequences(list(raw_df.text)) #this is how we create sequences\n",
    "train_df = tf.keras.preprocessing.sequence.pad_sequences(train_df, maxlen=maxlen) #let's execute pad step\n",
    "train_df[0]"
   ]
  },
  {
   "cell_type": "code",
   "execution_count": null,
   "metadata": {},
   "outputs": [],
   "source": [
    "X_train, X_test, y_train, y_test = train_test_split(train_df, y, test_size=0.1, random_state=42)"
   ]
  },
  {
   "cell_type": "markdown",
   "metadata": {},
   "source": [
    "# Model and Train"
   ]
  },
  {
   "cell_type": "code",
   "execution_count": null,
   "metadata": {},
   "outputs": [],
   "source": [
    "model = tf.keras.models.Sequential([\n",
    "  tf.keras.layers.Embedding(input_dim=vocab_size,\n",
    "                           output_dim=embedding_dim,\n",
    "                           input_length=maxlen),\n",
    "  tf.keras.layers.Flatten(),\n",
    "  tf.keras.layers.Dense(2000,activation='relu'),\n",
    "  tf.keras.layers.Dense(500,activation='relu'),\n",
    "  tf.keras.layers.Dense(100,activation='relu'),\n",
    "  tf.keras.layers.Dense(num_categories, activation=tf.nn.sigmoid)\n",
    "])\n",
    "\n",
    "model.compile(optimizer='nadam',\n",
    "              loss='categorical_crossentropy',\n",
    "              metrics=['accuracy'])\n",
    "\n",
    "modelcheckpoint = tf.keras.callbacks.ModelCheckpoint(filepath=output_dir+\n",
    "                                  \"/weights.{epoch:02d}.hdf5\")\n",
    "\n",
    "model.summary()"
   ]
  },
  {
   "cell_type": "code",
   "execution_count": null,
   "metadata": {
    "scrolled": true
   },
   "outputs": [],
   "source": [
    "model.fit(np.array(X_train), np.array(y_train),\n",
    "          #batch_size=128,\n",
    "          validation_data=(np.array(X_test),np.array(y_test)),\n",
    "          epochs=20,\n",
    "          callbacks=[modelcheckpoint])"
   ]
  },
  {
   "cell_type": "code",
   "execution_count": null,
   "metadata": {},
   "outputs": [],
   "source": [
    "score = model.evaluate(np.array(X_test), np.array(y_test)) \n",
    "\n",
    "print(\"Test Score:\", score[0])\n",
    "print(\"Test Accuracy:\", score[1])"
   ]
  },
  {
   "cell_type": "markdown",
   "metadata": {},
   "source": [
    "# Accuracy by Label"
   ]
  },
  {
   "cell_type": "code",
   "execution_count": null,
   "metadata": {},
   "outputs": [],
   "source": [
    "model.load_weights(output_dir+\"/weights.10.hdf5\") #NOT ZERO INDEXED"
   ]
  },
  {
   "cell_type": "code",
   "execution_count": null,
   "metadata": {},
   "outputs": [],
   "source": [
    "filepath = os.path.abspath(os.path.join(os.getcwd(), \n",
    "            \"..\",\n",
    "            \"data/fandom_categorizer/fandom_tags.json\"))\n",
    "with open(filepath) as f:\n",
    "    label_dict = json.load(f)\n",
    "\n",
    "results = {}\n",
    "    \n",
    "for k,v in label_dict.items():\n",
    "    results[k]={\n",
    "        'Correct':0,\n",
    "        'Wrong-OverTagged':0,\n",
    "        'Wrong-UnderTagged':0,\n",
    "        'Error':0,\n",
    "        'Count':0,\n",
    "        }\n",
    "\n",
    "predictions = model.predict(X_train)\n",
    "\n",
    "for i in range(len(y_train)):\n",
    "    j=0\n",
    "    for k,v in label_dict.items():\n",
    "        p = 1 if predictions[i][j] > 0.90 else 0\n",
    "        a = y[i][j]\n",
    "        if p >= .90 and a == 1 or p == 0 and a == 0:\n",
    "            results[k]['Correct'] += 1\n",
    "        elif p >= .90 and a == 0:\n",
    "            results[k]['Wrong-OverTagged'] += 1\n",
    "        elif p < .90 and a == 1:\n",
    "            results[k]['Wrong-UnderTagged'] += 1\n",
    "        else:\n",
    "            results[k]['Error'] += 1\n",
    "        results[k]['Count'] += 1    \n",
    "        j+=1\n",
    "\n",
    "pred_df = pd.DataFrame(data=results)\n",
    "print(pred_df)\n",
    "pred_df.to_csv(output_dir+\"/label-accuracy.csv\")"
   ]
  },
  {
   "cell_type": "markdown",
   "metadata": {},
   "source": [
    "# Load/Save Model"
   ]
  },
  {
   "cell_type": "code",
   "execution_count": null,
   "metadata": {},
   "outputs": [],
   "source": [
    "model.save(output_dir+'/model_v003')"
   ]
  },
  {
   "cell_type": "code",
   "execution_count": null,
   "metadata": {},
   "outputs": [],
   "source": []
  }
 ],
 "metadata": {
  "kernelspec": {
   "display_name": "Python 3",
   "language": "python",
   "name": "python3"
  },
  "language_info": {
   "codemirror_mode": {
    "name": "ipython",
    "version": 3
   },
   "file_extension": ".py",
   "mimetype": "text/x-python",
   "name": "python",
   "nbconvert_exporter": "python",
   "pygments_lexer": "ipython3",
   "version": "3.8.10"
  }
 },
 "nbformat": 4,
 "nbformat_minor": 2
}
