{
 "cells": [
  {
   "cell_type": "code",
   "execution_count": 90,
   "id": "regional-glass",
   "metadata": {},
   "outputs": [],
   "source": [
    "import pickle\n",
    "import numpy as np\n",
    "import pandas as pd\n",
    "import tensorflow as tf\n",
    "import matplotlib.pyplot as plt\n",
    "import sklearn\n",
    "import joblib\n",
    "\n",
    "from collections import defaultdict\n",
    "\n",
    "from sklearn import preprocessing\n",
    "from sklearn.ensemble import RandomForestRegressor\n",
    "from sklearn.model_selection import train_test_split\n",
    "\n",
    "from yellowbrick.model_selection import ValidationCurve\n",
    "\n",
    "%config InlineBackend.figure_format = 'retina'"
   ]
  },
  {
   "cell_type": "code",
   "execution_count": 13,
   "id": "returning-employee",
   "metadata": {},
   "outputs": [],
   "source": [
    "df = pd.read_csv('../datasets/autoria/autoria_encoded_data.csv', index_col=0)"
   ]
  },
  {
   "cell_type": "code",
   "execution_count": 14,
   "id": "adjustable-constant",
   "metadata": {},
   "outputs": [
    {
     "name": "stdout",
     "output_type": "stream",
     "text": [
      "<class 'pandas.core.frame.DataFrame'>\n",
      "Int64Index: 129292 entries, 0 to 146813\n",
      "Data columns (total 7 columns):\n",
      " #   Column             Non-Null Count   Dtype  \n",
      "---  ------             --------------   -----  \n",
      " 0   brand              129292 non-null  int64  \n",
      " 1   fuel_type          129292 non-null  int64  \n",
      " 2   transmission_type  129292 non-null  int64  \n",
      " 3   price_USD          129292 non-null  int64  \n",
      " 4   mileage_kkm        129292 non-null  int64  \n",
      " 5   year_made          129292 non-null  int64  \n",
      " 6   engine_size        129292 non-null  float64\n",
      "dtypes: float64(1), int64(6)\n",
      "memory usage: 7.9 MB\n"
     ]
    }
   ],
   "source": [
    "df.info()"
   ]
  },
  {
   "cell_type": "code",
   "execution_count": null,
   "id": "continuing-greek",
   "metadata": {},
   "outputs": [],
   "source": []
  },
  {
   "cell_type": "markdown",
   "id": "based-blanket",
   "metadata": {},
   "source": [
    "### Random Forest"
   ]
  },
  {
   "cell_type": "code",
   "execution_count": 15,
   "id": "sealed-blair",
   "metadata": {},
   "outputs": [],
   "source": [
    "y = df['price_USD']\n",
    "X = df.drop(columns=['price_USD'])\n",
    "\n",
    "X_train, X_test, y_train, y_test = train_test_split(X, y, test_size=0.3, random_state=42)"
   ]
  },
  {
   "cell_type": "code",
   "execution_count": 16,
   "id": "military-blowing",
   "metadata": {},
   "outputs": [
    {
     "data": {
      "text/html": [
       "<div>\n",
       "<style scoped>\n",
       "    .dataframe tbody tr th:only-of-type {\n",
       "        vertical-align: middle;\n",
       "    }\n",
       "\n",
       "    .dataframe tbody tr th {\n",
       "        vertical-align: top;\n",
       "    }\n",
       "\n",
       "    .dataframe thead th {\n",
       "        text-align: right;\n",
       "    }\n",
       "</style>\n",
       "<table border=\"1\" class=\"dataframe\">\n",
       "  <thead>\n",
       "    <tr style=\"text-align: right;\">\n",
       "      <th></th>\n",
       "      <th>brand</th>\n",
       "      <th>fuel_type</th>\n",
       "      <th>transmission_type</th>\n",
       "      <th>mileage_kkm</th>\n",
       "      <th>year_made</th>\n",
       "      <th>engine_size</th>\n",
       "    </tr>\n",
       "  </thead>\n",
       "  <tbody>\n",
       "    <tr>\n",
       "      <th>119142</th>\n",
       "      <td>72</td>\n",
       "      <td>5</td>\n",
       "      <td>0</td>\n",
       "      <td>175</td>\n",
       "      <td>2015</td>\n",
       "      <td>2.5</td>\n",
       "    </tr>\n",
       "    <tr>\n",
       "      <th>119249</th>\n",
       "      <td>6</td>\n",
       "      <td>5</td>\n",
       "      <td>0</td>\n",
       "      <td>60</td>\n",
       "      <td>2017</td>\n",
       "      <td>3.0</td>\n",
       "    </tr>\n",
       "    <tr>\n",
       "      <th>5885</th>\n",
       "      <td>35</td>\n",
       "      <td>1</td>\n",
       "      <td>0</td>\n",
       "      <td>92</td>\n",
       "      <td>2012</td>\n",
       "      <td>0.0</td>\n",
       "    </tr>\n",
       "    <tr>\n",
       "      <th>26768</th>\n",
       "      <td>67</td>\n",
       "      <td>3</td>\n",
       "      <td>0</td>\n",
       "      <td>203</td>\n",
       "      <td>2007</td>\n",
       "      <td>3.5</td>\n",
       "    </tr>\n",
       "    <tr>\n",
       "      <th>110819</th>\n",
       "      <td>74</td>\n",
       "      <td>5</td>\n",
       "      <td>3</td>\n",
       "      <td>117</td>\n",
       "      <td>2007</td>\n",
       "      <td>5.4</td>\n",
       "    </tr>\n",
       "    <tr>\n",
       "      <th>...</th>\n",
       "      <td>...</td>\n",
       "      <td>...</td>\n",
       "      <td>...</td>\n",
       "      <td>...</td>\n",
       "      <td>...</td>\n",
       "      <td>...</td>\n",
       "    </tr>\n",
       "    <tr>\n",
       "      <th>145400</th>\n",
       "      <td>128</td>\n",
       "      <td>3</td>\n",
       "      <td>1</td>\n",
       "      <td>42</td>\n",
       "      <td>2002</td>\n",
       "      <td>1.7</td>\n",
       "    </tr>\n",
       "    <tr>\n",
       "      <th>117562</th>\n",
       "      <td>60</td>\n",
       "      <td>0</td>\n",
       "      <td>1</td>\n",
       "      <td>136</td>\n",
       "      <td>2007</td>\n",
       "      <td>2.5</td>\n",
       "    </tr>\n",
       "    <tr>\n",
       "      <th>928</th>\n",
       "      <td>22</td>\n",
       "      <td>5</td>\n",
       "      <td>0</td>\n",
       "      <td>0</td>\n",
       "      <td>2021</td>\n",
       "      <td>1.2</td>\n",
       "    </tr>\n",
       "    <tr>\n",
       "      <th>17570</th>\n",
       "      <td>46</td>\n",
       "      <td>5</td>\n",
       "      <td>0</td>\n",
       "      <td>120</td>\n",
       "      <td>2008</td>\n",
       "      <td>2.4</td>\n",
       "    </tr>\n",
       "    <tr>\n",
       "      <th>138254</th>\n",
       "      <td>83</td>\n",
       "      <td>0</td>\n",
       "      <td>1</td>\n",
       "      <td>209</td>\n",
       "      <td>2011</td>\n",
       "      <td>2.5</td>\n",
       "    </tr>\n",
       "  </tbody>\n",
       "</table>\n",
       "<p>90504 rows × 6 columns</p>\n",
       "</div>"
      ],
      "text/plain": [
       "        brand  fuel_type  transmission_type  mileage_kkm  year_made  \\\n",
       "119142     72          5                  0          175       2015   \n",
       "119249      6          5                  0           60       2017   \n",
       "5885       35          1                  0           92       2012   \n",
       "26768      67          3                  0          203       2007   \n",
       "110819     74          5                  3          117       2007   \n",
       "...       ...        ...                ...          ...        ...   \n",
       "145400    128          3                  1           42       2002   \n",
       "117562     60          0                  1          136       2007   \n",
       "928        22          5                  0            0       2021   \n",
       "17570      46          5                  0          120       2008   \n",
       "138254     83          0                  1          209       2011   \n",
       "\n",
       "        engine_size  \n",
       "119142          2.5  \n",
       "119249          3.0  \n",
       "5885            0.0  \n",
       "26768           3.5  \n",
       "110819          5.4  \n",
       "...             ...  \n",
       "145400          1.7  \n",
       "117562          2.5  \n",
       "928             1.2  \n",
       "17570           2.4  \n",
       "138254          2.5  \n",
       "\n",
       "[90504 rows x 6 columns]"
      ]
     },
     "execution_count": 16,
     "metadata": {},
     "output_type": "execute_result"
    }
   ],
   "source": [
    "X_train"
   ]
  },
  {
   "cell_type": "code",
   "execution_count": 101,
   "id": "bearing-charleston",
   "metadata": {},
   "outputs": [
    {
     "name": "stdout",
     "output_type": "stream",
     "text": [
      "score: 0.8992945045946545\n"
     ]
    }
   ],
   "source": [
    "rfr = RandomForestRegressor(\n",
    "    n_estimators=100,\n",
    "    max_depth=14,\n",
    "    random_state=1,\n",
    "    n_jobs=8,\n",
    ")\n",
    "rfr.fit(X_train, y_train)\n",
    "print('score:', rfr.score(X_test, y_test))"
   ]
  },
  {
   "cell_type": "code",
   "execution_count": 102,
   "id": "executed-encounter",
   "metadata": {},
   "outputs": [],
   "source": [
    "y_pred = rfr.predict(X_test)"
   ]
  },
  {
   "cell_type": "code",
   "execution_count": 103,
   "id": "excess-paper",
   "metadata": {},
   "outputs": [
    {
     "data": {
      "text/plain": [
       "0.1690812819472468"
      ]
     },
     "execution_count": 103,
     "metadata": {},
     "output_type": "execute_result"
    }
   ],
   "source": [
    "sklearn.metrics.mean_absolute_percentage_error(y_test, y_pred)"
   ]
  },
  {
   "cell_type": "markdown",
   "id": "nearby-demand",
   "metadata": {},
   "source": [
    "#### Saving model"
   ]
  },
  {
   "cell_type": "code",
   "execution_count": 104,
   "id": "packed-genetics",
   "metadata": {},
   "outputs": [
    {
     "data": {
      "text/plain": [
       "['models/tab_price_0/rfr_model.sav']"
      ]
     },
     "execution_count": 104,
     "metadata": {},
     "output_type": "execute_result"
    }
   ],
   "source": [
    "model_path = 'models/tab_price_0/rfr_model.sav'\n",
    "joblib.dump(rfr, model_path)"
   ]
  },
  {
   "cell_type": "markdown",
   "id": "recovered-schedule",
   "metadata": {},
   "source": [
    "#### Inference example"
   ]
  },
  {
   "cell_type": "code",
   "execution_count": 105,
   "id": "taken-lindsay",
   "metadata": {},
   "outputs": [],
   "source": [
    "loaded_rfr = joblib.load(model_path)"
   ]
  },
  {
   "cell_type": "code",
   "execution_count": 106,
   "id": "liked-today",
   "metadata": {},
   "outputs": [],
   "source": [
    "feature_encoding_path = '../datasets/autoria/feature_encoding.pkl'\n",
    "with open(feature_encoding_path, 'rb') as f:\n",
    "    encoding = pickle.load(f)"
   ]
  },
  {
   "cell_type": "code",
   "execution_count": 117,
   "id": "eight-smith",
   "metadata": {},
   "outputs": [],
   "source": [
    "data = {\n",
    "    'brand' : 'BMW',\n",
    "    'fuel_type' : 'petrol',\n",
    "    'transmission_type' : 'automatic',\n",
    "    'mileage_kkm' : 145,\n",
    "    'year_made' : 2010,\n",
    "    'engine_size' : 4.4,\n",
    "}"
   ]
  },
  {
   "cell_type": "code",
   "execution_count": 118,
   "id": "beautiful-diving",
   "metadata": {},
   "outputs": [],
   "source": [
    "def encode_features(features, encoding):\n",
    "    for f, val in features.items():\n",
    "        val = val.lower() if isinstance(val, str) else val\n",
    "        if f in encoding:\n",
    "            features[f] = encoding[f].transform([val])"
   ]
  },
  {
   "cell_type": "code",
   "execution_count": 119,
   "id": "copyrighted-specification",
   "metadata": {},
   "outputs": [],
   "source": [
    "encode_features(data, encoding)"
   ]
  },
  {
   "cell_type": "code",
   "execution_count": 120,
   "id": "funded-miller",
   "metadata": {},
   "outputs": [
    {
     "data": {
      "text/plain": [
       "{'brand': array([11]),\n",
       " 'fuel_type': array([5]),\n",
       " 'transmission_type': array([0]),\n",
       " 'mileage_kkm': 145,\n",
       " 'year_made': 2010,\n",
       " 'engine_size': 4.4}"
      ]
     },
     "execution_count": 120,
     "metadata": {},
     "output_type": "execute_result"
    }
   ],
   "source": [
    "data"
   ]
  },
  {
   "cell_type": "code",
   "execution_count": 111,
   "id": "relevant-breach",
   "metadata": {},
   "outputs": [
    {
     "data": {
      "text/plain": [
       "[[array([11]), array([5]), array([0]), 145, 2010, 4.4]]"
      ]
     },
     "execution_count": 111,
     "metadata": {},
     "output_type": "execute_result"
    }
   ],
   "source": [
    "encoded_data = [list(data.values())]\n",
    "encoded_data"
   ]
  },
  {
   "cell_type": "code",
   "execution_count": 112,
   "id": "union-brush",
   "metadata": {},
   "outputs": [
    {
     "data": {
      "text/plain": [
       "array([21834.36676397])"
      ]
     },
     "execution_count": 112,
     "metadata": {},
     "output_type": "execute_result"
    }
   ],
   "source": [
    "loaded_rfr.predict(encoded_data)"
   ]
  },
  {
   "cell_type": "code",
   "execution_count": null,
   "id": "changing-dressing",
   "metadata": {},
   "outputs": [],
   "source": []
  }
 ],
 "metadata": {
  "kernelspec": {
   "display_name": "Python 3",
   "language": "python",
   "name": "python3"
  },
  "language_info": {
   "codemirror_mode": {
    "name": "ipython",
    "version": 3
   },
   "file_extension": ".py",
   "mimetype": "text/x-python",
   "name": "python",
   "nbconvert_exporter": "python",
   "pygments_lexer": "ipython3",
   "version": "3.8.5"
  },
  "varInspector": {
   "cols": {
    "lenName": 16,
    "lenType": 16,
    "lenVar": 40
   },
   "kernels_config": {
    "python": {
     "delete_cmd_postfix": "",
     "delete_cmd_prefix": "del ",
     "library": "var_list.py",
     "varRefreshCmd": "print(var_dic_list())"
    },
    "r": {
     "delete_cmd_postfix": ") ",
     "delete_cmd_prefix": "rm(",
     "library": "var_list.r",
     "varRefreshCmd": "cat(var_dic_list()) "
    }
   },
   "types_to_exclude": [
    "module",
    "function",
    "builtin_function_or_method",
    "instance",
    "_Feature"
   ],
   "window_display": false
  }
 },
 "nbformat": 4,
 "nbformat_minor": 5
}
