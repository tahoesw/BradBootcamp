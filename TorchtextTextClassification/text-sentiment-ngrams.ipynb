{
 "cells": [
  {
   "cell_type": "markdown",
   "id": "0055a297-faaf-4e54-abea-348009b98009",
   "metadata": {},
   "source": [
    "# TEXT CLASSIFICATION WITH THE TORCHTEXT LIBRARY\n",
    "### In this tutorial, we will show how to use the torchtext library to build the dataset for the text classification analysis. Users will have the flexibility to\n",
    "\n",
    "  - Access to the raw data as an iterator\n",
    "\n",
    "  - Build data processing pipeline to convert the raw text strings into torch.Tensor that can be used to train the model\n",
    "\n",
    "  - Shuffle and iterate the data with [torch.utils.data.DataLoader](https://pytorch.org/docs/stable/data.html#torch.utils.data.DataLoader)"
   ]
  },
  {
   "cell_type": "markdown",
   "id": "ca093855-8279-4c24-a182-b28942de32fb",
   "metadata": {},
   "source": [
    "### Prerequisites\n",
    "A recent 2.x version of the portalocker package needs to be installed prior to running the tutorial."
   ]
  },
  {
   "cell_type": "code",
   "execution_count": 1,
   "id": "b19086b1-2910-4866-b9b9-46c718703519",
   "metadata": {},
   "outputs": [
    {
     "name": "stdout",
     "output_type": "stream",
     "text": [
      "Requirement already satisfied: portalocker in /Users/wel51x/Library/jupyterlab-desktop/jlab_server/lib/python3.8/site-packages (2.8.2)\n"
     ]
    }
   ],
   "source": [
    "!pip install -U portalocker"
   ]
  },
  {
   "cell_type": "markdown",
   "id": "f7929ce7-a27e-48fd-999f-841c1c742d47",
   "metadata": {},
   "source": [
    "### Access to the raw dataset iterators\n",
    "The torchtext library provides a few raw dataset iterators, which yield the raw text strings. For example, the AG_NEWS dataset iterators yield the raw data as a tuple of label and text.\n",
    "\n",
    "To access torchtext datasets, please install torchdata following instructions [here](https://github.com/pytorch/data)."
   ]
  },
  {
   "cell_type": "code",
   "execution_count": 2,
   "id": "8daa914e-9227-4a50-8fc6-f4b23dfe5b02",
   "metadata": {},
   "outputs": [
    {
     "name": "stdout",
     "output_type": "stream",
     "text": [
      "Requirement already satisfied: torchtext in /Users/wel51x/Library/jupyterlab-desktop/jlab_server/lib/python3.8/site-packages (0.16.1)\n",
      "Requirement already satisfied: tqdm in /Users/wel51x/Library/jupyterlab-desktop/jlab_server/lib/python3.8/site-packages (from torchtext) (4.66.1)\n",
      "Requirement already satisfied: requests in /Users/wel51x/Library/jupyterlab-desktop/jlab_server/lib/python3.8/site-packages (from torchtext) (2.31.0)\n",
      "Requirement already satisfied: torch==2.1.1 in /Users/wel51x/Library/jupyterlab-desktop/jlab_server/lib/python3.8/site-packages (from torchtext) (2.1.1)\n",
      "Requirement already satisfied: numpy in /Users/wel51x/Library/jupyterlab-desktop/jlab_server/lib/python3.8/site-packages (from torchtext) (1.24.4)\n",
      "Requirement already satisfied: torchdata==0.7.1 in /Users/wel51x/Library/jupyterlab-desktop/jlab_server/lib/python3.8/site-packages (from torchtext) (0.7.1)\n",
      "Requirement already satisfied: filelock in /Users/wel51x/Library/jupyterlab-desktop/jlab_server/lib/python3.8/site-packages (from torch==2.1.1->torchtext) (3.13.1)\n",
      "Requirement already satisfied: typing-extensions in /Users/wel51x/Library/jupyterlab-desktop/jlab_server/lib/python3.8/site-packages (from torch==2.1.1->torchtext) (4.8.0)\n",
      "Requirement already satisfied: sympy in /Users/wel51x/Library/jupyterlab-desktop/jlab_server/lib/python3.8/site-packages (from torch==2.1.1->torchtext) (1.12)\n",
      "Requirement already satisfied: networkx in /Users/wel51x/Library/jupyterlab-desktop/jlab_server/lib/python3.8/site-packages (from torch==2.1.1->torchtext) (3.1)\n",
      "Requirement already satisfied: jinja2 in /Users/wel51x/Library/jupyterlab-desktop/jlab_server/lib/python3.8/site-packages (from torch==2.1.1->torchtext) (3.1.2)\n",
      "Requirement already satisfied: fsspec in /Users/wel51x/Library/jupyterlab-desktop/jlab_server/lib/python3.8/site-packages (from torch==2.1.1->torchtext) (2023.10.0)\n",
      "Requirement already satisfied: urllib3>=1.25 in /Users/wel51x/Library/jupyterlab-desktop/jlab_server/lib/python3.8/site-packages (from torchdata==0.7.1->torchtext) (2.0.7)\n",
      "Requirement already satisfied: charset-normalizer<4,>=2 in /Users/wel51x/Library/jupyterlab-desktop/jlab_server/lib/python3.8/site-packages (from requests->torchtext) (3.3.1)\n",
      "Requirement already satisfied: idna<4,>=2.5 in /Users/wel51x/Library/jupyterlab-desktop/jlab_server/lib/python3.8/site-packages (from requests->torchtext) (3.4)\n",
      "Requirement already satisfied: certifi>=2017.4.17 in /Users/wel51x/Library/jupyterlab-desktop/jlab_server/lib/python3.8/site-packages (from requests->torchtext) (2023.7.22)\n",
      "Requirement already satisfied: MarkupSafe>=2.0 in /Users/wel51x/Library/jupyterlab-desktop/jlab_server/lib/python3.8/site-packages (from jinja2->torch==2.1.1->torchtext) (2.1.3)\n",
      "Requirement already satisfied: mpmath>=0.19 in /Users/wel51x/Library/jupyterlab-desktop/jlab_server/lib/python3.8/site-packages (from sympy->torch==2.1.1->torchtext) (1.3.0)\n"
     ]
    }
   ],
   "source": [
    "!pip install -U torchtext"
   ]
  },
  {
   "cell_type": "code",
   "execution_count": 4,
   "id": "50e4d9c7-a10b-41fc-9163-23a35b241c9b",
   "metadata": {},
   "outputs": [
    {
     "data": {
      "text/plain": [
       "generator"
      ]
     },
     "execution_count": 4,
     "metadata": {},
     "output_type": "execute_result"
    }
   ],
   "source": [
    "import torch\n",
    "from torchtext.datasets import AG_NEWS\n",
    "\n",
    "train_iter = iter(AG_NEWS(split=\"train\"))\n",
    "type(train_iter)"
   ]
  },
  {
   "cell_type": "code",
   "execution_count": 5,
   "id": "e31d61c6-6b76-47c5-be9a-1c464b9deb26",
   "metadata": {},
   "outputs": [
    {
     "data": {
      "text/plain": [
       "(3,\n",
       " \"Wall St. Bears Claw Back Into the Black (Reuters) Reuters - Short-sellers, Wall Street's dwindling\\\\band of ultra-cynics, are seeing green again.\")"
      ]
     },
     "execution_count": 5,
     "metadata": {},
     "output_type": "execute_result"
    }
   ],
   "source": [
    "next(train_iter)"
   ]
  },
  {
   "cell_type": "code",
   "execution_count": 6,
   "id": "d7a21f61-8331-46e9-a654-48a6e1d95370",
   "metadata": {},
   "outputs": [
    {
     "data": {
      "text/plain": [
       "(3,\n",
       " 'Carlyle Looks Toward Commercial Aerospace (Reuters) Reuters - Private investment firm Carlyle Group,\\\\which has a reputation for making well-timed and occasionally\\\\controversial plays in the defense industry, has quietly placed\\\\its bets on another part of the market.')"
      ]
     },
     "execution_count": 6,
     "metadata": {},
     "output_type": "execute_result"
    }
   ],
   "source": [
    "next(train_iter)"
   ]
  },
  {
   "cell_type": "code",
   "execution_count": 7,
   "id": "c156903a-1dc6-4ee6-9773-156cede68b4f",
   "metadata": {},
   "outputs": [
    {
     "data": {
      "text/plain": [
       "(3,\n",
       " \"Oil and Economy Cloud Stocks' Outlook (Reuters) Reuters - Soaring crude prices plus worries\\\\about the economy and the outlook for earnings are expected to\\\\hang over the stock market next week during the depth of the\\\\summer doldrums.\")"
      ]
     },
     "execution_count": 7,
     "metadata": {},
     "output_type": "execute_result"
    }
   ],
   "source": [
    "next(train_iter)"
   ]
  },
  {
   "cell_type": "markdown",
   "id": "b3e45e71-f008-49d9-87f6-f58cfb92c448",
   "metadata": {},
   "source": [
    "### Prepare data processing pipelines\n",
    "We have revisited the very basic components of the torchtext library, including vocab, word vectors, tokenizer. Those are the basic data processing building blocks for raw text string.\n",
    "\n",
    "Here is an example for typical NLP data processing with tokenizer and vocabulary. The first step is to build a vocabulary with the raw training dataset. Here we use built in factory function build_vocab_from_iterator which accepts iterator that yield list or iterator of tokens. Users can also pass any special symbols to be added to the vocabulary."
   ]
  },
  {
   "cell_type": "code",
   "execution_count": 11,
   "id": "295b3bb8-991f-486d-b70d-d2fcfce48dc7",
   "metadata": {},
   "outputs": [],
   "source": [
    "from torchtext.data.utils import get_tokenizer\n",
    "from torchtext.vocab import build_vocab_from_iterator\n",
    "\n",
    "tokenizer = get_tokenizer(\"basic_english\")\n",
    "train_iter = AG_NEWS(split=\"train\")\n",
    "\n",
    "\n",
    "def yield_tokens(data_iter):\n",
    "    for _, text in data_iter:\n",
    "        yield tokenizer(text)\n",
    "\n",
    "\n",
    "vocab = build_vocab_from_iterator(yield_tokens(train_iter), specials=[\"<unk>\"])\n",
    "vocab.set_default_index(vocab[\"<unk>\"])"
   ]
  },
  {
   "cell_type": "markdown",
   "id": "d777f026-edd4-450e-b5c2-d153d3f14687",
   "metadata": {},
   "source": [
    "The vocabulary block converts a list of tokens into integers."
   ]
  },
  {
   "cell_type": "code",
   "execution_count": 12,
   "id": "2222500d-7701-4aeb-8d41-7887bf2023ce",
   "metadata": {},
   "outputs": [
    {
     "data": {
      "text/plain": [
       "[475, 21, 30, 5297]"
      ]
     },
     "execution_count": 12,
     "metadata": {},
     "output_type": "execute_result"
    }
   ],
   "source": [
    "vocab(['here', 'is', 'an', 'example'])"
   ]
  },
  {
   "cell_type": "markdown",
   "id": "50cab658-ad64-4ee3-ac46-309dbc0e2c02",
   "metadata": {},
   "source": [
    "Prepare the text processing pipeline with the tokenizer and vocabulary. The text and label pipelines will be used to process the raw data strings from the dataset iterators."
   ]
  },
  {
   "cell_type": "code",
   "execution_count": 13,
   "id": "e9d16de4-d728-4477-a444-7b61949bee1f",
   "metadata": {},
   "outputs": [],
   "source": [
    "text_pipeline = lambda x: vocab(tokenizer(x))\n",
    "label_pipeline = lambda x: int(x) - 1"
   ]
  },
  {
   "cell_type": "markdown",
   "id": "743e9079-1e9f-4e7b-8cf9-d2dad730fecd",
   "metadata": {},
   "source": [
    "The text pipeline converts a text string into a list of integers based on the lookup table defined in the vocabulary. The label pipeline converts the label into integers. For example,"
   ]
  },
  {
   "cell_type": "code",
   "execution_count": 14,
   "id": "cd6aa5da-bf7b-4564-bbc1-07d699298901",
   "metadata": {},
   "outputs": [
    {
     "data": {
      "text/plain": [
       "[475, 21, 2, 30, 5297]"
      ]
     },
     "execution_count": 14,
     "metadata": {},
     "output_type": "execute_result"
    }
   ],
   "source": [
    "text_pipeline('here is the an example')"
   ]
  },
  {
   "cell_type": "code",
   "execution_count": 15,
   "id": "419b6955-e1aa-4931-8d94-ecc5737d2fb7",
   "metadata": {},
   "outputs": [
    {
     "data": {
      "text/plain": [
       "9"
      ]
     },
     "execution_count": 15,
     "metadata": {},
     "output_type": "execute_result"
    }
   ],
   "source": [
    "label_pipeline('10')"
   ]
  },
  {
   "cell_type": "markdown",
   "id": "709356b5-047c-4e50-867d-5a6b59511930",
   "metadata": {},
   "source": [
    "### Generate data batch and iterator\n",
    "[torch.utils.data.DataLoader](https://pytorch.org/docs/stable/data.html#torch.utils.data.DataLoader) is recommended for PyTorch users (a tutorial is [here](https://pytorch.org/tutorials/beginner/data_loading_tutorial.html)). It works with a map-style dataset that implements the getitem() and len() protocols, and represents a map from indices/keys to data samples. It also works with an iterable dataset with the shuffle argument of False.\n",
    "\n",
    "Before sending to the model, collate_fn function works on a batch of samples generated from DataLoader. The input to collate_fn is a batch of data with the batch size in DataLoader, and collate_fn processes them according to the data processing pipelines declared previously. Pay attention here and make sure that collate_fn is declared as a top level def. This ensures that the function is available in each worker.\n",
    "\n",
    "In this example, the text entries in the original data batch input are packed into a list and concatenated as a single tensor for the input of nn.EmbeddingBag. The offset is a tensor of delimiters to represent the beginning index of the individual sequence in the text tensor. Label is a tensor saving the labels of individual text entries."
   ]
  },
  {
   "cell_type": "code",
   "execution_count": 16,
   "id": "4c8f94e8-f606-4699-8977-ec7d3e72e310",
   "metadata": {},
   "outputs": [],
   "source": [
    "from torch.utils.data import DataLoader\n",
    "\n",
    "device = torch.device(\"cuda\" if torch.cuda.is_available() else \"cpu\")\n",
    "\n",
    "\n",
    "def collate_batch(batch):\n",
    "    label_list, text_list, offsets = [], [], [0]\n",
    "    for _label, _text in batch:\n",
    "        label_list.append(label_pipeline(_label))\n",
    "        processed_text = torch.tensor(text_pipeline(_text), dtype=torch.int64)\n",
    "        text_list.append(processed_text)\n",
    "        offsets.append(processed_text.size(0))\n",
    "    label_list = torch.tensor(label_list, dtype=torch.int64)\n",
    "    offsets = torch.tensor(offsets[:-1]).cumsum(dim=0)\n",
    "    text_list = torch.cat(text_list)\n",
    "    return label_list.to(device), text_list.to(device), offsets.to(device)\n",
    "\n",
    "\n",
    "train_iter = AG_NEWS(split=\"train\")\n",
    "dataloader = DataLoader(\n",
    "    train_iter, batch_size=8, shuffle=False, collate_fn=collate_batch\n",
    ")"
   ]
  },
  {
   "attachments": {
    "2f1ee02d-e974-4459-b1be-2edb9d92a8c2.png": {
     "image/png": "[encoded data removed]"
    }
   },
   "cell_type": "markdown",
   "id": "3d87b764-5f76-49f3-a4b0-da3ea5e9625a",
   "metadata": {},
   "source": [
    "### Define the model\n",
    "The model is composed of the [nn.EmbeddingBag](https://pytorch.org/docs/stable/nn.html#torch.nn.EmbeddingBag) layer plus a linear layer for the classification purpose. nn.EmbeddingBag with the default mode of “mean” computes the mean value of a “bag” of embeddings. Although the text entries here have different lengths, nn.EmbeddingBag module requires no padding here since the text lengths are saved in offsets.\n",
    "\n",
    "Additionally, since nn.EmbeddingBag accumulates the average across the embeddings on the fly, nn.EmbeddingBag can enhance the performance and memory efficiency to process a sequence of tensors.\n",
    "\n",
    "![image.png](attachment:2f1ee02d-e974-4459-b1be-2edb9d92a8c2.png)"
   ]
  },
  {
   "cell_type": "code",
   "execution_count": 17,
   "id": "61ac281d-a47f-43fb-930c-640c28a3f50f",
   "metadata": {},
   "outputs": [],
   "source": [
    "from torch import nn\n",
    "\n",
    "\n",
    "class TextClassificationModel(nn.Module):\n",
    "    def __init__(self, vocab_size, embed_dim, num_class):\n",
    "        super(TextClassificationModel, self).__init__()\n",
    "        self.embedding = nn.EmbeddingBag(vocab_size, embed_dim, sparse=False)\n",
    "        self.fc = nn.Linear(embed_dim, num_class)\n",
    "        self.init_weights()\n",
    "\n",
    "    def init_weights(self):\n",
    "        initrange = 0.5\n",
    "        self.embedding.weight.data.uniform_(-initrange, initrange)\n",
    "        self.fc.weight.data.uniform_(-initrange, initrange)\n",
    "        self.fc.bias.data.zero_()\n",
    "\n",
    "    def forward(self, text, offsets):\n",
    "        embedded = self.embedding(text, offsets)\n",
    "        return self.fc(embedded)"
   ]
  },
  {
   "cell_type": "markdown",
   "id": "d2c82354-bbe5-4af5-8c34-a595c45f1ff3",
   "metadata": {},
   "source": [
    "### Initiate an instance\n",
    "The AG_NEWS dataset has four labels and therefore the number of classes is four.\n",
    "\n",
    "1 : World\n",
    "2 : Sports\n",
    "3 : Business\n",
    "4 : Sci/Tec<br>\n",
    "\n",
    "We build a model with the embedding dimension of 64. The vocab size is equal to the length of the vocabulary instance. The number of classes is equal to the number of labels,"
   ]
  },
  {
   "cell_type": "code",
   "execution_count": 23,
   "id": "1cb73179-9254-425e-8557-e3189f982f22",
   "metadata": {},
   "outputs": [
    {
     "data": {
      "text/plain": [
       "{1, 2, 3, 4}"
      ]
     },
     "execution_count": 23,
     "metadata": {},
     "output_type": "execute_result"
    }
   ],
   "source": [
    "train_iter = AG_NEWS(split=\"train\")\n",
    "num_class = len(set([label for (label, text) in train_iter]))\n",
    "vocab_size = len(vocab)\n",
    "embedding_dimension_size = 64\n",
    "model = TextClassificationModel(vocab_size, embedding_dimension_size, num_class).to(device)\n",
    "set([label for (label, text) in train_iter])"
   ]
  },
  {
   "cell_type": "markdown",
   "id": "6f05e4f9-2302-4355-b49e-e91b3ea93ef4",
   "metadata": {},
   "source": [
    "### Define functions to train the model and evaluate results."
   ]
  },
  {
   "cell_type": "code",
   "execution_count": 24,
   "id": "2886b726-e496-4792-902c-74f718493a69",
   "metadata": {},
   "outputs": [],
   "source": [
    "import time\n",
    "\n",
    "\n",
    "def train(dataloader):\n",
    "    model.train()\n",
    "    total_acc, total_count = 0, 0\n",
    "    log_interval = 500\n",
    "    start_time = time.time()\n",
    "\n",
    "    for idx, (label, text, offsets) in enumerate(dataloader):\n",
    "        optimizer.zero_grad()\n",
    "        predicted_label = model(text, offsets)\n",
    "        loss = criterion(predicted_label, label)\n",
    "        loss.backward()\n",
    "        torch.nn.utils.clip_grad_norm_(model.parameters(), 0.1)\n",
    "        optimizer.step()\n",
    "        total_acc += (predicted_label.argmax(1) == label).sum().item()\n",
    "        total_count += label.size(0)\n",
    "        if idx % log_interval == 0 and idx > 0:\n",
    "            elapsed = time.time() - start_time\n",
    "            print(\n",
    "                \"| epoch {:3d} | {:5d}/{:5d} batches \"\n",
    "                \"| accuracy {:8.3f}\".format(\n",
    "                    epoch, idx, len(dataloader), total_acc / total_count\n",
    "                )\n",
    "            )\n",
    "            total_acc, total_count = 0, 0\n",
    "            start_time = time.time()\n",
    "\n",
    "\n",
    "def evaluate(dataloader):\n",
    "    model.eval()\n",
    "    total_acc, total_count = 0, 0\n",
    "\n",
    "    with torch.no_grad():\n",
    "        for idx, (label, text, offsets) in enumerate(dataloader):\n",
    "            predicted_label = model(text, offsets)\n",
    "            loss = criterion(predicted_label, label)\n",
    "            total_acc += (predicted_label.argmax(1) == label).sum().item()\n",
    "            total_count += label.size(0)\n",
    "    return total_acc / total_count"
   ]
  },
  {
   "cell_type": "markdown",
   "id": "ec2cf358-c39e-40df-8bb6-d6e88246e49d",
   "metadata": {},
   "source": [
    "### Split the dataset and run the model\n",
    "Since the original AG_NEWS has no valid dataset, we split the training dataset into train/valid sets with a split ratio of 0.95 (train) and 0.05 (valid). Here we use [torch.utils.data.dataset.random_split](https://pytorch.org/docs/stable/data.html#torch.utils.data.random_split) function in PyTorch core library.\n",
    "\n",
    "[CrossEntropyLoss](https://pytorch.org/docs/stable/nn.html#torch.nn.CrossEntropyLoss) criterion combines nn.LogSoftmax() and nn.NLLLoss() in a single class. It is useful when training a classification problem with C classes. [SGD](https://pytorch.org/docs/stable/_modules/torch/optim/sgd.html) implements stochastic gradient descent method as the optimizer. The initial learning rate is set to 5.0. [StepLR](https://pytorch.org/docs/master/_modules/torch/optim/lr_scheduler.html#StepLR) is used here to adjust the learning rate through epochs."
   ]
  },
  {
   "cell_type": "code",
   "execution_count": 25,
   "id": "6ba4bd5a-2fe3-41d7-8b4c-fa4df98b99a2",
   "metadata": {},
   "outputs": [
    {
     "name": "stdout",
     "output_type": "stream",
     "text": [
      "| epoch   1 |   500/ 1782 batches | accuracy    0.684\n",
      "| epoch   1 |  1000/ 1782 batches | accuracy    0.859\n",
      "| epoch   1 |  1500/ 1782 batches | accuracy    0.876\n",
      "-----------------------------------------------------------\n",
      "| end of epoch   1 | time:  7.95s | valid accuracy    0.891 \n",
      "-----------------------------------------------------------\n",
      "| epoch   2 |   500/ 1782 batches | accuracy    0.898\n",
      "| epoch   2 |  1000/ 1782 batches | accuracy    0.903\n",
      "| epoch   2 |  1500/ 1782 batches | accuracy    0.903\n",
      "-----------------------------------------------------------\n",
      "| end of epoch   2 | time:  7.92s | valid accuracy    0.899 \n",
      "-----------------------------------------------------------\n",
      "| epoch   3 |   500/ 1782 batches | accuracy    0.913\n",
      "| epoch   3 |  1000/ 1782 batches | accuracy    0.914\n",
      "| epoch   3 |  1500/ 1782 batches | accuracy    0.914\n",
      "-----------------------------------------------------------\n",
      "| end of epoch   3 | time:  8.09s | valid accuracy    0.908 \n",
      "-----------------------------------------------------------\n",
      "| epoch   4 |   500/ 1782 batches | accuracy    0.924\n",
      "| epoch   4 |  1000/ 1782 batches | accuracy    0.921\n",
      "| epoch   4 |  1500/ 1782 batches | accuracy    0.921\n",
      "-----------------------------------------------------------\n",
      "| end of epoch   4 | time:  8.16s | valid accuracy    0.908 \n",
      "-----------------------------------------------------------\n",
      "| epoch   5 |   500/ 1782 batches | accuracy    0.932\n",
      "| epoch   5 |  1000/ 1782 batches | accuracy    0.929\n",
      "| epoch   5 |  1500/ 1782 batches | accuracy    0.929\n",
      "-----------------------------------------------------------\n",
      "| end of epoch   5 | time:  8.07s | valid accuracy    0.911 \n",
      "-----------------------------------------------------------\n",
      "| epoch   6 |   500/ 1782 batches | accuracy    0.936\n",
      "| epoch   6 |  1000/ 1782 batches | accuracy    0.936\n",
      "| epoch   6 |  1500/ 1782 batches | accuracy    0.932\n",
      "-----------------------------------------------------------\n",
      "| end of epoch   6 | time:  8.24s | valid accuracy    0.909 \n",
      "-----------------------------------------------------------\n",
      "| epoch   7 |   500/ 1782 batches | accuracy    0.949\n",
      "| epoch   7 |  1000/ 1782 batches | accuracy    0.945\n",
      "| epoch   7 |  1500/ 1782 batches | accuracy    0.947\n",
      "-----------------------------------------------------------\n",
      "| end of epoch   7 | time:  8.03s | valid accuracy    0.913 \n",
      "-----------------------------------------------------------\n",
      "| epoch   8 |   500/ 1782 batches | accuracy    0.948\n",
      "| epoch   8 |  1000/ 1782 batches | accuracy    0.950\n",
      "| epoch   8 |  1500/ 1782 batches | accuracy    0.950\n",
      "-----------------------------------------------------------\n",
      "| end of epoch   8 | time:  7.98s | valid accuracy    0.913 \n",
      "-----------------------------------------------------------\n",
      "| epoch   9 |   500/ 1782 batches | accuracy    0.949\n",
      "| epoch   9 |  1000/ 1782 batches | accuracy    0.950\n",
      "| epoch   9 |  1500/ 1782 batches | accuracy    0.950\n",
      "-----------------------------------------------------------\n",
      "| end of epoch   9 | time:  7.80s | valid accuracy    0.912 \n",
      "-----------------------------------------------------------\n",
      "| epoch  10 |   500/ 1782 batches | accuracy    0.948\n",
      "| epoch  10 |  1000/ 1782 batches | accuracy    0.952\n",
      "| epoch  10 |  1500/ 1782 batches | accuracy    0.953\n",
      "-----------------------------------------------------------\n",
      "| end of epoch  10 | time:  7.90s | valid accuracy    0.914 \n",
      "-----------------------------------------------------------\n"
     ]
    }
   ],
   "source": [
    "from torch.utils.data.dataset import random_split\n",
    "from torchtext.data.functional import to_map_style_dataset\n",
    "\n",
    "# Hyperparameters\n",
    "EPOCHS = 10  # epoch\n",
    "LR = 5  # learning rate\n",
    "BATCH_SIZE = 64  # batch size for training\n",
    "\n",
    "criterion = torch.nn.CrossEntropyLoss()\n",
    "optimizer = torch.optim.SGD(model.parameters(), lr=LR)\n",
    "scheduler = torch.optim.lr_scheduler.StepLR(optimizer, 1.0, gamma=0.1)\n",
    "total_accu = None\n",
    "train_iter, test_iter = AG_NEWS()\n",
    "train_dataset = to_map_style_dataset(train_iter)\n",
    "test_dataset = to_map_style_dataset(test_iter)\n",
    "num_train = int(len(train_dataset) * 0.95)\n",
    "split_train_, split_valid_ = random_split(\n",
    "    train_dataset, [num_train, len(train_dataset) - num_train]\n",
    ")\n",
    "\n",
    "train_dataloader = DataLoader(\n",
    "    split_train_, batch_size=BATCH_SIZE, shuffle=True, collate_fn=collate_batch\n",
    ")\n",
    "valid_dataloader = DataLoader(\n",
    "    split_valid_, batch_size=BATCH_SIZE, shuffle=True, collate_fn=collate_batch\n",
    ")\n",
    "test_dataloader = DataLoader(\n",
    "    test_dataset, batch_size=BATCH_SIZE, shuffle=True, collate_fn=collate_batch\n",
    ")\n",
    "\n",
    "for epoch in range(1, EPOCHS + 1):\n",
    "    epoch_start_time = time.time()\n",
    "    train(train_dataloader)\n",
    "    accu_val = evaluate(valid_dataloader)\n",
    "    if total_accu is not None and total_accu > accu_val:\n",
    "        scheduler.step()\n",
    "    else:\n",
    "        total_accu = accu_val\n",
    "    print(\"-\" * 59)\n",
    "    print(\n",
    "        \"| end of epoch {:3d} | time: {:5.2f}s | \"\n",
    "        \"valid accuracy {:8.3f} \".format(\n",
    "            epoch, time.time() - epoch_start_time, accu_val\n",
    "        )\n",
    "    )\n",
    "    print(\"-\" * 59)"
   ]
  },
  {
   "cell_type": "markdown",
   "id": "cd56b204-f484-44ce-9f09-431abf234e7f",
   "metadata": {},
   "source": [
    "### Evaluate the model with test dataset\n",
    "Checking the results of the test dataset…"
   ]
  },
  {
   "cell_type": "code",
   "execution_count": 26,
   "id": "e1e93a47-d406-428c-89eb-a7df6e1f6efb",
   "metadata": {},
   "outputs": [
    {
     "name": "stdout",
     "output_type": "stream",
     "text": [
      "Checking the results of test dataset.\n",
      "test accuracy    0.910\n"
     ]
    }
   ],
   "source": [
    "print(\"Checking the results of test dataset.\")\n",
    "accu_test = evaluate(test_dataloader)\n",
    "print(\"test accuracy {:8.3f}\".format(accu_test))"
   ]
  },
  {
   "cell_type": "markdown",
   "id": "29efcb2b-aa23-4852-a0fb-0e64a14ca06b",
   "metadata": {},
   "source": [
    "### Test on a random news\n",
    "Use the best model so far and test a golf news."
   ]
  },
  {
   "cell_type": "code",
   "execution_count": 27,
   "id": "1e0abde7-f959-42a7-a2e9-06a918580715",
   "metadata": {},
   "outputs": [
    {
     "name": "stdout",
     "output_type": "stream",
     "text": [
      "This is Sports news\n"
     ]
    }
   ],
   "source": [
    "ag_news_label = {1: \"World\", 2: \"Sports\", 3: \"Business\", 4: \"Sci/Tec\"}\n",
    "\n",
    "\n",
    "def predict(text, text_pipeline):\n",
    "    with torch.no_grad():\n",
    "        text = torch.tensor(text_pipeline(text))\n",
    "        output = model(text, torch.tensor([0]))\n",
    "        return output.argmax(1).item() + 1\n",
    "\n",
    "\n",
    "ex_text_str = \"MEMPHIS, Tenn. – Four days ago, Jon Rahm was \\\n",
    "    enduring the season’s worst weather conditions on Sunday at The \\\n",
    "    Open on his way to a closing 75 at Royal Portrush, which \\\n",
    "    considering the wind and the rain was a respectable showing. \\\n",
    "    Thursday’s first round at the WGC-FedEx St. Jude Invitational \\\n",
    "    was another story. With temperatures in the mid-80s and hardly any \\\n",
    "    wind, the Spaniard was 13 strokes better in a flawless round. \\\n",
    "    Thanks to his best putting performance on the PGA Tour, Rahm \\\n",
    "    finished with an 8-under 62 for a three-stroke lead, which \\\n",
    "    was even more impressive considering he’d never played the \\\n",
    "    front nine at TPC Southwind.\"\n",
    "\n",
    "model = model.to(\"cpu\")\n",
    "\n",
    "print(\"This is %s news\" % ag_news_label[predict(ex_text_str, text_pipeline)])"
   ]
  },
  {
   "cell_type": "code",
   "execution_count": null,
   "id": "ed184538-197e-4e9b-8325-92c98ffe3efa",
   "metadata": {},
   "outputs": [],
   "source": []
  }
 ],
 "metadata": {
  "kernelspec": {
   "display_name": "Python 3 (ipykernel)",
   "language": "python",
   "name": "python3"
  },
  "language_info": {
   "codemirror_mode": {
    "name": "ipython",
    "version": 3
   },
   "file_extension": ".py",
   "mimetype": "text/x-python",
   "name": "python",
   "nbconvert_exporter": "python",
   "pygments_lexer": "ipython3",
   "version": "3.8.18"
  }
 },
 "nbformat": 4,
 "nbformat_minor": 5
}
